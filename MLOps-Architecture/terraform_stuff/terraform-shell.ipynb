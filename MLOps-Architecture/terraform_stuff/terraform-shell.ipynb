{
 "cells": [
  {
   "cell_type": "code",
   "execution_count": 1,
   "id": "48202191",
   "metadata": {},
   "outputs": [
    {
     "name": "stdout",
     "output_type": "stream",
     "text": [
      "fast-learner-project\n"
     ]
    }
   ],
   "source": [
    "!gcloud config get-value project"
   ]
  },
  {
   "cell_type": "code",
   "execution_count": 2,
   "id": "60d8c869",
   "metadata": {},
   "outputs": [
    {
     "name": "stderr",
     "output_type": "stream",
     "text": [
      "Updated property [core/project].\n"
     ]
    }
   ],
   "source": [
    "!gcloud config set project fast-learner-project"
   ]
  },
  {
   "cell_type": "code",
   "execution_count": 3,
   "id": "ee26d6fd",
   "metadata": {},
   "outputs": [
    {
     "name": "stderr",
     "output_type": "stream",
     "text": [
      "Fetching cluster endpoint and auth data.\n",
      "kubeconfig entry generated for two-node-cluster.\n"
     ]
    }
   ],
   "source": [
    "!gcloud container clusters get-credentials two-node-cluster --zone us-central1-a"
   ]
  },
  {
   "cell_type": "code",
   "execution_count": 63,
   "id": "a2fcede4",
   "metadata": {},
   "outputs": [],
   "source": [
    "# get kubectl nodes\n",
    "nodes = !kubectl get nodes"
   ]
  },
  {
   "cell_type": "code",
   "execution_count": 64,
   "id": "9ea5ef5d",
   "metadata": {},
   "outputs": [],
   "source": [
    "'''\n",
    "['NAME                                             STATUS   ROLES    AGE     VERSION',\n",
    " 'gke-two-node-cluster-node-pool-1-6f09704a-0m73   Ready    <none>   9m44s   v1.33.2-gke.1240000',\n",
    " 'gke-two-node-cluster-node-pool-1-6f09704a-8bcl   Ready    <none>   9m42s   v1.33.2-gke.1240000']\n",
    "'''\n",
    "\n",
    "# get pods\n",
    "first_node = nodes[1].split()[0]\n",
    "second_node = nodes[2].split()[0]"
   ]
  },
  {
   "cell_type": "code",
   "execution_count": null,
   "id": "5b186c9b",
   "metadata": {},
   "outputs": [
    {
     "name": "stdout",
     "output_type": "stream",
     "text": [
      "namespace/kafka created\n"
     ]
    }
   ],
   "source": [
    "# C:\\Users\\adilm\\OneDrive\\Documents\\large-scale-online-learning\\MLOps-Architecture\\terraform_stuff\\deploy_real_kubernetes\\00-namespace.yaml\n",
    "!kubectl apply -f deploy_real_kubernetes/00-namespace.yaml\n",
    "\n"
   ]
  },
  {
   "cell_type": "code",
   "execution_count": 65,
   "id": "10b79fe4",
   "metadata": {
    "vscode": {
     "languageId": "ruby"
    }
   },
   "outputs": [],
   "source": [
    "# change the node name of C:\\Users\\adilm\\OneDrive\\Documents\\large-scale-online-learning\\MLOps-Architecture\\terraform_stuff\\deploy_real_kubernetes\\01-zookeeper.yaml\n",
    "# using python logic\n",
    "\n",
    "import yaml\n",
    "\n",
    "dir_yaml = 'deploy_real_kubernetes/'\n",
    "\n",
    "# FIRST NODE\n",
    "with open(dir_yaml + 'deploy_micro_inf.yaml', 'r') as filename:\n",
    "    micro_inf_configs = list(yaml.safe_load_all(filename))\n",
    "micro_inf_configs[0]['spec']['template']['spec']['nodeName'] = first_node\n",
    "with open(dir_yaml + 'deploy_micro_inf.yaml', 'w') as filename:\n",
    "    yaml.safe_dump_all(micro_inf_configs, filename)\n",
    "\n",
    "with open(dir_yaml + '04-mlflow.yaml', 'r') as filename:\n",
    "    mlflow_configs = list(yaml.safe_load_all(filename))\n",
    "mlflow_configs[2]['spec']['template']['spec']['nodeName'] = first_node\n",
    "with open(dir_yaml + '04-mlflow.yaml', 'w') as filename:\n",
    "    yaml.safe_dump_all(mlflow_configs, filename)\n",
    "\n",
    "# SECOND NODE\n",
    "with open(dir_yaml + '01-zookeeper.yaml', 'r') as filename:\n",
    "    zookeeper_configs = list(yaml.safe_load_all(filename))\n",
    "zookeeper_configs[1]['spec']['template']['spec']['nodeName'] = second_node\n",
    "with open(dir_yaml + '01-zookeeper.yaml', 'w') as filename:\n",
    "    yaml.safe_dump_all(zookeeper_configs, filename)\n",
    "\n",
    "with open(dir_yaml + '02-kafka.yaml', 'r') as filename:\n",
    "    kafka_configs = list(yaml.safe_load_all(filename))\n",
    "kafka_configs[1]['spec']['template']['spec']['nodeName'] = second_node\n",
    "with open(dir_yaml + '02-kafka.yaml', 'w') as filename: \n",
    "    yaml.safe_dump_all(kafka_configs, filename)\n",
    "\n",
    "with open(dir_yaml + 'deploy_micro_up.yaml', 'r') as filename:\n",
    "    micro_up_configs = list(yaml.safe_load_all(filename))\n",
    "micro_up_configs[0]['spec']['template']['spec']['nodeName'] = second_node\n",
    "with open(dir_yaml + 'deploy_micro_up.yaml', 'w') as filename:\n",
    "    yaml.safe_dump_all(micro_up_configs, filename)\n",
    "\n"
   ]
  },
  {
   "cell_type": "code",
   "execution_count": null,
   "id": "c3961784",
   "metadata": {},
   "outputs": [],
   "source": [
    "# get all files from dir deploy_real_kubernetes\n",
    "dir_name = 'deploy_real_kubernetes'\n",
    "import os\n",
    "\n",
    "files = [f for f in os.listdir(dir_name) if os.path.isfile(os.path.join(dir_name, f))]\n",
    "for file in files:\n",
    "    if file.endswith('.yaml'):\n",
    "        print(f'Applying {file}...')\n",
    "        !kubectl apply -f {os.path.join(dir_name, file)}\n",
    "    else:\n",
    "        print(f'Skipping {file}, not a YAML file.')"
   ]
  },
  {
   "cell_type": "code",
   "execution_count": 50,
   "id": "aa63e243",
   "metadata": {},
   "outputs": [
    {
     "name": "stdout",
     "output_type": "stream",
     "text": [
      "deployment.apps/api-update configured\n",
      "persistentvolumeclaim/api-update-pvc unchanged\n"
     ]
    }
   ],
   "source": [
    "!kubectl apply -f deploy_real_kubernetes/deploy_micro_up.yaml"
   ]
  },
  {
   "cell_type": "code",
   "execution_count": null,
   "id": "fb98c96b",
   "metadata": {},
   "outputs": [],
   "source": [
    "!kubectl get pods "
   ]
  },
  {
   "cell_type": "code",
   "execution_count": null,
   "id": "9b4312a2",
   "metadata": {},
   "outputs": [],
   "source": [
    "# open logs api-update-869db87fbd-mrmkv\n",
    "!kubectl logs api-update-869db87fbd-mrmkv -n default"
   ]
  },
  {
   "cell_type": "code",
   "execution_count": null,
   "id": "e76f2f12",
   "metadata": {},
   "outputs": [],
   "source": [
    "# check kubectl event\n",
    "!kubectl get events "
   ]
  },
  {
   "cell_type": "code",
   "execution_count": null,
   "id": "7ca9f885",
   "metadata": {},
   "outputs": [],
   "source": [
    "!kubectl get storageclass"
   ]
  },
  {
   "cell_type": "code",
   "execution_count": null,
   "id": "7855367f",
   "metadata": {},
   "outputs": [],
   "source": [
    "!kubectl describe pvc api-update-pvc"
   ]
  },
  {
   "cell_type": "code",
   "execution_count": 54,
   "id": "ae7c0b77",
   "metadata": {},
   "outputs": [
    {
     "name": "stdout",
     "output_type": "stream",
     "text": [
      "NAME                                       CAPACITY   ACCESS MODES   RECLAIM POLICY   STATUS   CLAIM                STORAGECLASS   VOLUMEATTRIBUTESCLASS   REASON   AGE\n",
      "pvc-5760623a-2e56-4a7f-85ed-cced7d10f8ec   5Gi        RWO            Delete           Bound    default/mlflow-pvc   standard       <unset>                          43m\n"
     ]
    }
   ],
   "source": [
    "!kubectl get pv"
   ]
  },
  {
   "cell_type": "code",
   "execution_count": 61,
   "id": "711d9275",
   "metadata": {},
   "outputs": [
    {
     "name": "stdout",
     "output_type": "stream",
     "text": [
      "NAME                                                                   ATTACHER                PV                                         NODE                                             ATTACHED   AGE\n",
      "csi-1995fde2e78e9e9a3e250210be8f9432d0c786e44e0761a013f0ac72d9d3dba6   pd.csi.storage.gke.io   pvc-5760623a-2e56-4a7f-85ed-cced7d10f8ec   gke-two-node-cluster-node-pool-1-6f09704a-0m73   true       66m\n"
     ]
    }
   ],
   "source": [
    "!kubectl get volumeattachment\n"
   ]
  },
  {
   "cell_type": "code",
   "execution_count": 62,
   "id": "095be45f",
   "metadata": {},
   "outputs": [
    {
     "name": "stdout",
     "output_type": "stream",
     "text": [
      "NAME                                             STATUS   ROLES    AGE    VERSION\n",
      "gke-two-node-cluster-node-pool-1-6f09704a-0m73   Ready    <none>   115m   v1.33.2-gke.1240000\n",
      "gke-two-node-cluster-node-pool-1-6f09704a-8bcl   Ready    <none>   115m   v1.33.2-gke.1240000\n"
     ]
    }
   ],
   "source": [
    "!kubectl get nodes\n"
   ]
  },
  {
   "cell_type": "code",
   "execution_count": null,
   "id": "32d5a485",
   "metadata": {},
   "outputs": [],
   "source": [
    "!kubectl get storageclass standard-rwo"
   ]
  },
  {
   "cell_type": "code",
   "execution_count": 59,
   "id": "2e2531cc",
   "metadata": {},
   "outputs": [
    {
     "name": "stdout",
     "output_type": "stream",
     "text": [
      "NAME                                                        READY   STATUS    RESTARTS   AGE\n",
      "event-exporter-gke-6c5c978549-msrmf                         2/2     Running   0          101m\n",
      "fluentbit-gke-lc7dd                                         3/3     Running   0          95m\n",
      "fluentbit-gke-r7fvs                                         3/3     Running   0          95m\n",
      "gke-metrics-agent-5f5dr                                     2/2     Running   0          95m\n",
      "gke-metrics-agent-dxdwf                                     2/2     Running   0          95m\n",
      "konnectivity-agent-65cbfbd596-ln99r                         2/2     Running   0          94m\n",
      "konnectivity-agent-65cbfbd596-r4mlt                         2/2     Running   0          101m\n",
      "konnectivity-agent-autoscaler-77dfdd8f5b-wpvp9              1/1     Running   0          101m\n",
      "kube-dns-85896794dd-4vk6t                                   4/4     Running   0          101m\n",
      "kube-dns-85896794dd-hcfnd                                   4/4     Running   0          94m\n",
      "kube-dns-autoscaler-6d7d9d6d5f-hjm4g                        1/1     Running   0          101m\n",
      "kube-proxy-gke-two-node-cluster-node-pool-1-6f09704a-0m73   1/1     Running   0          95m\n",
      "kube-proxy-gke-two-node-cluster-node-pool-1-6f09704a-8bcl   1/1     Running   0          95m\n",
      "l7-default-backend-854f58bc79-j9rwn                         1/1     Running   0          101m\n",
      "metrics-server-v1.33.0-7896ccd9f5-f6ttf                     1/1     Running   0          101m\n",
      "pdcsi-node-j82q8                                            2/2     Running   0          95m\n",
      "pdcsi-node-k647n                                            2/2     Running   0          95m\n"
     ]
    }
   ],
   "source": [
    "!kubectl get pods -n kube-system \n"
   ]
  },
  {
   "cell_type": "code",
   "execution_count": 57,
   "id": "9acecbfc",
   "metadata": {},
   "outputs": [
    {
     "name": "stdout",
     "output_type": "stream",
     "text": [
      "NAME                    ATTACHREQUIRED   PODINFOONMOUNT   STORAGECAPACITY   TOKENREQUESTS   REQUIRESREPUBLISH   MODES        AGE\n",
      "pd.csi.storage.gke.io   true             false            false             <unset>         false               Persistent   101m\n"
     ]
    }
   ],
   "source": [
    "!kubectl get csidrivers\n"
   ]
  },
  {
   "cell_type": "code",
   "execution_count": 35,
   "id": "36805ca9",
   "metadata": {},
   "outputs": [
    {
     "name": "stdout",
     "output_type": "stream",
     "text": [
      "Name:          mlflow-pvc\n",
      "Namespace:     default\n",
      "StorageClass:  standard\n",
      "Status:        Bound\n",
      "Volume:        pvc-5760623a-2e56-4a7f-85ed-cced7d10f8ec\n",
      "Labels:        <none>\n",
      "Annotations:   pv.kubernetes.io/bind-completed: yes\n",
      "               pv.kubernetes.io/bound-by-controller: yes\n",
      "               volume.beta.kubernetes.io/storage-provisioner: pd.csi.storage.gke.io\n",
      "               volume.kubernetes.io/storage-provisioner: pd.csi.storage.gke.io\n",
      "Finalizers:    [kubernetes.io/pvc-protection]\n",
      "Capacity:      5Gi\n",
      "Access Modes:  RWO\n",
      "VolumeMode:    Filesystem\n",
      "Used By:       mlflow-6cbdd998d8-dbxjr\n",
      "Events:\n",
      "  Type    Reason                 Age                From                                                                                              Message\n",
      "  ----    ------                 ----               ----                                                                                              -------\n",
      "  Normal  ExternalProvisioning   23m (x2 over 23m)  persistentvolume-controller                                                                       Waiting for a volume to be created either by the external provisioner 'pd.csi.storage.gke.io' or manually by the system administrator. If volume creation is delayed, please verify that the provisioner is running and correctly registered.\n",
      "  Normal  Provisioning           23m                pd.csi.storage.gke.io_gke-ab8e232c0d4b421a9d6a-c078-4f4e-vm_6822f326-8a59-42b4-8cba-361b8455e1ed  External provisioner is provisioning volume for claim \"default/mlflow-pvc\"\n",
      "  Normal  ProvisioningSucceeded  23m                pd.csi.storage.gke.io_gke-ab8e232c0d4b421a9d6a-c078-4f4e-vm_6822f326-8a59-42b4-8cba-361b8455e1ed  Successfully provisioned volume pvc-5760623a-2e56-4a7f-85ed-cced7d10f8ec\n"
     ]
    }
   ],
   "source": [
    "!kubectl describe pvc mlflow-pvc -n default\n"
   ]
  },
  {
   "cell_type": "code",
   "execution_count": null,
   "id": "4d894280",
   "metadata": {},
   "outputs": [],
   "source": []
  }
 ],
 "metadata": {
  "kernelspec": {
   "display_name": ".venv",
   "language": "python",
   "name": "python3"
  },
  "language_info": {
   "codemirror_mode": {
    "name": "ipython",
    "version": 3
   },
   "file_extension": ".py",
   "mimetype": "text/x-python",
   "name": "python",
   "nbconvert_exporter": "python",
   "pygments_lexer": "ipython3",
   "version": "3.11.5"
  }
 },
 "nbformat": 4,
 "nbformat_minor": 5
}
