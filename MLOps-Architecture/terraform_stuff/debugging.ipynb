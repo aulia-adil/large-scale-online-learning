{
 "cells": [
  {
   "cell_type": "code",
   "execution_count": 1,
   "id": "ca4f254f",
   "metadata": {},
   "outputs": [
    {
     "name": "stdout",
     "output_type": "stream",
     "text": [
      "NAME                                             STATUS   ROLES    AGE    VERSION               LABELS\n",
      "gke-two-node-cluster-node-pool-1-6f09704a-8bcl   Ready    <none>   122m   v1.33.2-gke.1240000   beta.kubernetes.io/arch=amd64,beta.kubernetes.io/instance-type=e2-standard-4,beta.kubernetes.io/os=linux,cloud.google.com/gke-boot-disk=pd-standard,cloud.google.com/gke-container-runtime=containerd,cloud.google.com/gke-cpu-scaling-level=4,cloud.google.com/gke-logging-variant=DEFAULT,cloud.google.com/gke-max-pods-per-node=110,cloud.google.com/gke-memory-gb-scaling-level=16,cloud.google.com/gke-nodepool=node-pool-1,cloud.google.com/gke-os-distribution=cos,cloud.google.com/gke-provisioning=standard,cloud.google.com/gke-stack-type=IPV4,cloud.google.com/machine-family=e2,cloud.google.com/private-node=false,failure-domain.beta.kubernetes.io/region=us-central1,failure-domain.beta.kubernetes.io/zone=us-central1-a,kubernetes.io/arch=amd64,kubernetes.io/hostname=gke-two-node-cluster-node-pool-1-6f09704a-8bcl,kubernetes.io/os=linux,node.kubernetes.io/instance-type=e2-standard-4,topology.gke.io/zone=us-central1-a,topology.kubernetes.io/region=us-central1,topology.kubernetes.io/zone=us-central1-a\n"
     ]
    }
   ],
   "source": [
    "!kubectl get nodes gke-two-node-cluster-node-pool-1-6f09704a-8bcl --show-labels"
   ]
  },
  {
   "cell_type": "code",
   "execution_count": null,
   "id": "a9be6b7f",
   "metadata": {},
   "outputs": [],
   "source": [
    "!gcloud compute disks create api-update-disk --size=5Gi --zone=us-central1-a"
   ]
  },
  {
   "cell_type": "code",
   "execution_count": null,
   "id": "f86cb55d",
   "metadata": {},
   "outputs": [],
   "source": [
    "!gcloud compute disks create api-inference-disk --size=5Gi --zone=us-central1-a"
   ]
  },
  {
   "cell_type": "code",
   "execution_count": null,
   "id": "8ca9c5a3",
   "metadata": {},
   "outputs": [],
   "source": [
    "!gcloud compute disks create mlflow-disk --size=5Gi --zone=us-central1-a\n"
   ]
  },
  {
   "cell_type": "code",
   "execution_count": null,
   "id": "17c53d82",
   "metadata": {},
   "outputs": [],
   "source": [
    "# !kubectl apply -f deploy_real_kubernetes/deploy_micro_inf.yaml\n",
    "!kubectl apply -f deploy_real_kubernetes/deploy_micro_up.yaml"
   ]
  },
  {
   "cell_type": "code",
   "execution_count": null,
   "id": "7c11ebd4",
   "metadata": {},
   "outputs": [],
   "source": [
    "# only get 10 latest events. In windows. check mlflow. tail in windows\n",
    "!kubectl get events | findstr /R \"upd\" "
   ]
  },
  {
   "cell_type": "code",
   "execution_count": 99,
   "id": "b3d59f7a",
   "metadata": {},
   "outputs": [
    {
     "data": {
      "text/plain": [
       "['NAME                            READY   STATUS    RESTARTS   AGE',\n",
       " 'api-inferencia-54c6bc6b-7bklx   1/1     Running   0          2m15s',\n",
       " 'api-update-5b8d584b6f-hmt8q     1/1     Running   0          44m',\n",
       " 'mlflow-546948fc94-b5khf         1/1     Running   0          91m']"
      ]
     },
     "execution_count": 99,
     "metadata": {},
     "output_type": "execute_result"
    }
   ],
   "source": [
    "# a = !kubectl get pods | findstr /R \"mlflow\"\n",
    "a = !kubectl get pods\n",
    "a"
   ]
  },
  {
   "cell_type": "code",
   "execution_count": 52,
   "id": "08bfeb54",
   "metadata": {},
   "outputs": [
    {
     "name": "stderr",
     "output_type": "stream",
     "text": [
      "Error from server (BadRequest): container \"api-update\" in pod \"api-update-5b8d584b6f-q2mc5\" is waiting to start: ContainerCreating\n"
     ]
    }
   ],
   "source": [
    "# api-update-5b8d584b6f-q2mc5 see logs\n",
    "!kubectl logs api-update-5b8d584b6f-q2mc5"
   ]
  },
  {
   "cell_type": "code",
   "execution_count": 98,
   "id": "9c55fde3",
   "metadata": {},
   "outputs": [
    {
     "name": "stdout",
     "output_type": "stream",
     "text": [
      "Name:             api-inferencia-54c6bc6b-7bklx\n",
      "Namespace:        default\n",
      "Priority:         0\n",
      "Service Account:  default\n",
      "Node:             gke-two-node-cluster-node-pool-1-6f09704a-21b4/10.10.0.6\n",
      "Start Time:       Sat, 09 Aug 2025 13:15:56 +0700\n",
      "Labels:           app=api-inferencia\n",
      "                  pod-template-hash=54c6bc6b\n",
      "Annotations:      <none>\n",
      "Status:           Running\n",
      "IP:               10.168.2.12\n",
      "IPs:\n",
      "  IP:           10.168.2.12\n",
      "Controlled By:  ReplicaSet/api-inferencia-54c6bc6b\n",
      "Containers:\n",
      "  api-inferencia:\n",
      "    Container ID:  containerd://55792c14cbf97d705bce9e45c3f77b904e7a48cfdada7332d2ecd7263905a2c5\n",
      "    Image:         mgrodrigues001/api_flask_inferencia:inf_v8.0\n",
      "    Image ID:      docker.io/mgrodrigues001/api_flask_inferencia@sha256:e4e7b098684450a61bba0eb36086cbb107d6ede30021e6b9caeb0faea20fbcf6\n",
      "    Port:          5001/TCP\n",
      "    Host Port:     0/TCP\n",
      "    Command:\n",
      "      /bin/sh\n",
      "    Args:\n",
      "      -c\n",
      "      tail -f /dev/null\n",
      "    State:          Running\n",
      "      Started:      Sat, 09 Aug 2025 13:16:35 +0700\n",
      "    Ready:          True\n",
      "    Restart Count:  0\n",
      "    Limits:\n",
      "      cpu:     500m\n",
      "      memory:  2Gi\n",
      "    Requests:\n",
      "      cpu:        500m\n",
      "      memory:     2Gi\n",
      "    Environment:  <none>\n",
      "    Mounts:\n",
      "      /app from app-storage (rw)\n",
      "      /var/run/secrets/kubernetes.io/serviceaccount from kube-api-access-lxqbk (ro)\n",
      "Conditions:\n",
      "  Type                        Status\n",
      "  PodReadyToStartContainers   True \n",
      "  Initialized                 True \n",
      "  Ready                       True \n",
      "  ContainersReady             True \n",
      "  PodScheduled                True \n",
      "Volumes:\n",
      "  app-storage:\n",
      "    Type:       PersistentVolumeClaim (a reference to a PersistentVolumeClaim in the same namespace)\n",
      "    ClaimName:  api-inferencia-pvc\n",
      "    ReadOnly:   false\n",
      "  kube-api-access-lxqbk:\n",
      "    Type:                    Projected (a volume that contains injected data from multiple sources)\n",
      "    TokenExpirationSeconds:  3607\n",
      "    ConfigMapName:           kube-root-ca.crt\n",
      "    ConfigMapOptional:       <nil>\n",
      "    DownwardAPI:             true\n",
      "QoS Class:                   Guaranteed\n",
      "Node-Selectors:              <none>\n",
      "Tolerations:                 node.kubernetes.io/not-ready:NoExecute op=Exists for 300s\n",
      "                             node.kubernetes.io/unreachable:NoExecute op=Exists for 300s\n",
      "Events:\n",
      "  Type     Reason                  Age    From                     Message\n",
      "  ----     ------                  ----   ----                     -------\n",
      "  Warning  FailedMount             2m11s  kubelet                  Unable to attach or mount volumes: unmounted volumes=[app-storage], unattached volumes=[], failed to process volumes=[app-storage]: error processing PVC default/api-inferencia-pvc: failed to fetch PVC from API server: persistentvolumeclaims \"api-inferencia-pvc\" not found\n",
      "  Normal   SuccessfulAttachVolume  119s   attachdetach-controller  AttachVolume.Attach succeeded for volume \"pvc-b93f8ef7-1560-45fa-ab25-d2e2432ecda1\"\n",
      "  Normal   Pulling                 113s   kubelet                  Pulling image \"mgrodrigues001/api_flask_inferencia:inf_v8.0\"\n",
      "  Normal   Pulled                  92s    kubelet                  Successfully pulled image \"mgrodrigues001/api_flask_inferencia:inf_v8.0\" in 20.839s (20.839s including waiting). Image size: 614178517 bytes.\n",
      "  Normal   Created                 92s    kubelet                  Created container: api-inferencia\n",
      "  Normal   Started                 92s    kubelet                  Started container api-inferencia\n"
     ]
    }
   ],
   "source": [
    "!kubectl describe pod {a[1].split()[0]}"
   ]
  },
  {
   "cell_type": "code",
   "execution_count": 93,
   "id": "d765df73",
   "metadata": {},
   "outputs": [
    {
     "name": "stdout",
     "output_type": "stream",
     "text": [
      "NAME                 STATUS    VOLUME                                     CAPACITY   ACCESS MODES   STORAGECLASS   VOLUMEATTRIBUTESCLASS   AGE\n",
      "api-inferencia-pvc   Pending                                                                        standard-rwo   <unset>                 18s\n",
      "api-update-pvc       Bound     pvc-c85ddeff-6037-4692-a8c3-55f350e44f50   5Gi        RWO            standard       <unset>                 41m\n",
      "mlflow-pvc           Bound     pvc-a6ef3a45-7390-47c7-a101-6a8ecfa60292   5Gi        RWO            standard       <unset>                 88m\n"
     ]
    }
   ],
   "source": [
    "!kubectl get pvc"
   ]
  },
  {
   "cell_type": "code",
   "execution_count": 92,
   "id": "13787b90",
   "metadata": {},
   "outputs": [
    {
     "name": "stdout",
     "output_type": "stream",
     "text": [
      "NAME                                       CAPACITY   ACCESS MODES   RECLAIM POLICY   STATUS      CLAIM                    STORAGECLASS   VOLUMEATTRIBUTESCLASS   REASON   AGE\n",
      "api-inference-pv                           5Gi        RWO            Retain           Available                                           <unset>                          2m18s\n",
      "api-inferencia-pv                          5Gi        RWO            Retain           Available                                           <unset>                          8s\n",
      "api-update-pv                              5Gi        RWO            Retain           Available                                           <unset>                          41m\n",
      "mlflow-pv                                  5Gi        RWO            Retain           Available                                           <unset>                          88m\n",
      "pvc-a6ef3a45-7390-47c7-a101-6a8ecfa60292   5Gi        RWO            Delete           Bound       default/mlflow-pvc       standard       <unset>                          88m\n",
      "pvc-c85ddeff-6037-4692-a8c3-55f350e44f50   5Gi        RWO            Delete           Bound       default/api-update-pvc   standard       <unset>                          41m\n"
     ]
    }
   ],
   "source": [
    "!kubectl get pv"
   ]
  },
  {
   "cell_type": "code",
   "execution_count": 35,
   "id": "b3a39a8b",
   "metadata": {},
   "outputs": [
    {
     "name": "stdout",
     "output_type": "stream",
     "text": [
      "pod \"mlflow-546948fc94-bnhnl\" deleted\n"
     ]
    }
   ],
   "source": [
    "!kubectl delete pod {a[0].split()[0]}\n",
    "# !kubectl delete pod {a[1].split()[0]}"
   ]
  },
  {
   "cell_type": "code",
   "execution_count": 37,
   "id": "f08e1ad4",
   "metadata": {},
   "outputs": [
    {
     "data": {
      "text/plain": [
       "['mlflow-546948fc94-wvnzk       0/1     ContainerCreating   0          7s',\n",
       " 'mlflow-6cbdd998d8-4fj5l       0/1     Pending             0          12s']"
      ]
     },
     "execution_count": 37,
     "metadata": {},
     "output_type": "execute_result"
    }
   ],
   "source": [
    "a"
   ]
  },
  {
   "cell_type": "code",
   "execution_count": 5,
   "id": "e8a59a2a",
   "metadata": {},
   "outputs": [
    {
     "name": "stdout",
     "output_type": "stream",
     "text": [
      "NAME                                             STATUS   ROLES    AGE   VERSION\n",
      "gke-two-node-cluster-node-pool-1-6f09704a-21b4   Ready    <none>   29m   v1.33.2-gke.1240000\n",
      "gke-two-node-cluster-node-pool-1-6f09704a-seg5   Ready    <none>   20m   v1.33.2-gke.1240000\n"
     ]
    }
   ],
   "source": [
    "!kubectl get nodes"
   ]
  },
  {
   "cell_type": "code",
   "execution_count": 95,
   "id": "0dfe741e",
   "metadata": {},
   "outputs": [
    {
     "name": "stdout",
     "output_type": "stream",
     "text": [
      "deployment.apps/api-inferencia created\n",
      "persistentvolumeclaim/api-inferencia-pvc created\n",
      "persistentvolume/api-inferencia-pv created\n"
     ]
    }
   ],
   "source": [
    "# how to unapply a file\n",
    "# !kubectl apply -f deploy_real_kubernetes/04-mlflow.yaml\n",
    "# !kubectl delete -f deploy_real_kubernetes/04-mlflow.yaml\n",
    "\n",
    "# !kubectl apply -f deploy_real_kubernetes/deploy_micro_up.yaml\n",
    "# !kubectl delete -f deploy_real_kubernetes/deploy_micro_up.yaml\n",
    "\n",
    "!kubectl apply -f deploy_real_kubernetes/deploy_micro_inf.yaml\n",
    "# !kubectl delete -f deploy_real_kubernetes/deploy_micro_inf.yaml"
   ]
  },
  {
   "cell_type": "code",
   "execution_count": 81,
   "id": "20d67cb5",
   "metadata": {},
   "outputs": [
    {
     "name": "stdout",
     "output_type": "stream",
     "text": [
      "15m (x26 over 153m)      Warning   FailedCreate                 ReplicaSet/api-inferencia-6768dc5ffb                  Error creating: pods \"api-inferencia-6768dc5ffb-\" is forbidden: error looking up service account default/my-app-sa: serviceaccount \"my-app-sa\" not found\n",
      "3m53s (x601 over 153m)   Normal    WaitForFirstConsumer         PersistentVolumeClaim/api-inferencia-pvc              waiting for first consumer to be created before binding\n",
      "2m8s                     Normal    ScalingReplicaSet            Deployment/api-inferencia                             Scaled up replica set api-inferencia-9d54bb6b6 from 0 to 1\n",
      "118s (x12 over 2m8s)     Warning   FailedCreate                 ReplicaSet/api-inferencia-9d54bb6b6                   Error creating: pods \"api-inferencia-9d54bb6b6-\" is forbidden: error looking up service account default/my-app-sa: serviceaccount \"my-app-sa\" not found\n",
      "112s (x3 over 2m8s)      Normal    WaitForFirstConsumer         PersistentVolumeClaim/api-inferencia-pvc              waiting for first consumer to be created before binding\n",
      "102s                     Normal    ScalingReplicaSet            Deployment/api-inferencia                             Scaled up replica set api-inferencia-9d54bb6b6 from 0 to 1\n",
      "23s (x7 over 101s)       Normal    WaitForFirstConsumer         PersistentVolumeClaim/api-inferencia-pvc              waiting for first consumer to be created before binding\n",
      "20s (x15 over 102s)      Warning   FailedCreate                 ReplicaSet/api-inferencia-9d54bb6b6                   Error creating: pods \"api-inferencia-9d54bb6b6-\" is forbidden: error looking up service account default/my-app-sa: serviceaccount \"my-app-sa\" not found\n"
     ]
    }
   ],
   "source": [
    "!kubectl events | findstr /R \"inf\""
   ]
  },
  {
   "cell_type": "code",
   "execution_count": 84,
   "id": "ac3b66b6",
   "metadata": {},
   "outputs": [
    {
     "name": "stdout",
     "output_type": "stream",
     "text": [
      "NAME                            READY   STATUS              RESTARTS   AGE\n",
      "api-inferencia-54c6bc6b-ctxf5   0/1     ContainerCreating   0          15s\n",
      "api-update-5b8d584b6f-hmt8q     1/1     Running             0          39m\n",
      "mlflow-546948fc94-b5khf         1/1     Running             0          86m\n"
     ]
    }
   ],
   "source": [
    "!kubectl get pods "
   ]
  },
  {
   "cell_type": "code",
   "execution_count": 14,
   "id": "5a750e84",
   "metadata": {},
   "outputs": [
    {
     "name": "stderr",
     "output_type": "stream",
     "text": [
      "Error from server (NotFound): pods \"mlflow-6cbdd998d8-gcdqv\" not found\n"
     ]
    }
   ],
   "source": [
    "!kubectl delete pod mlflow-6cbdd998d8-gcdqv"
   ]
  },
  {
   "cell_type": "code",
   "execution_count": 59,
   "id": "4a382196",
   "metadata": {},
   "outputs": [
    {
     "name": "stdout",
     "output_type": "stream",
     "text": [
      "NAME                 STATUS    VOLUME                                     CAPACITY   ACCESS MODES   STORAGECLASS   VOLUMEATTRIBUTESCLASS   AGE\n",
      "api-inferencia-pvc   Pending                                                                        standard-rwo   <unset>                 172m\n",
      "mlflow-pvc           Bound     pvc-a6ef3a45-7390-47c7-a101-6a8ecfa60292   5Gi        RWO            standard       <unset>                 41m\n"
     ]
    }
   ],
   "source": [
    "!kubectl get pvc"
   ]
  },
  {
   "cell_type": "code",
   "execution_count": 125,
   "id": "51022416",
   "metadata": {},
   "outputs": [
    {
     "data": {
      "text/plain": [
       "['api-update-5b8d584b6f-hmt8q     1/1     Running   0          97m']"
      ]
     },
     "execution_count": 125,
     "metadata": {},
     "output_type": "execute_result"
    }
   ],
   "source": [
    "a = !kubectl get pods | findstr /R \"upd\"\n",
    "a"
   ]
  },
  {
   "cell_type": "code",
   "execution_count": 4,
   "id": "ec3f39bb",
   "metadata": {},
   "outputs": [
    {
     "name": "stdout",
     "output_type": "stream",
     "text": [
      "persistentvolumeclaim/mlflow-pvc unchanged\n",
      "service/mlflow unchanged\n"
     ]
    },
    {
     "name": "stderr",
     "output_type": "stream",
     "text": [
      "error: error parsing deploy_real_kubernetes/04-mlflow.yaml: invalid Yaml document separator: null\n"
     ]
    }
   ],
   "source": [
    "!kubectl apply -f deploy_real_kubernetes/04-mlflow.yaml"
   ]
  },
  {
   "cell_type": "code",
   "execution_count": 148,
   "id": "ec46887b",
   "metadata": {},
   "outputs": [],
   "source": [
    "# do ls inside a.split()[0]\n",
    "# !kubectl exec {a[0].split()[0]} -- ls /app/\n",
    "\n",
    "# get ip address\n",
    "# !kubectl exec {a[0].split()[0]} -- hostname -i\n",
    "\n",
    "# copy API_inferencia_V8.0.py to ../../temp\n",
    "# a = !kubectl get pods | findstr /R \"upd\"\n",
    "# !kubectl cp ../temp/upd/API_update_V8.1.py {a[0].split()[0]}:/app/API_update_V8.1.py \n",
    "# !kubectl cp ../../Datasets/real_usage/AGR_a_first_train.csv {a[0].split()[0]}:/app/AGR_a_first_train.csv\n",
    "# !kubectl cp ../../Datasets/real_usage/AGR_g_first_train.csv {a[0].split()[0]}:/app/AGR_g_first_train.csv\n",
    "\n",
    "a = !kubectl get pods | findstr /R \"inf\"\n",
    "!kubectl cp ../temp/inf/API_inferencia_V8.0.py {a[0].split()[0]}:/app/API_inferencia_V8.0.py\n"
   ]
  },
  {
   "cell_type": "code",
   "execution_count": null,
   "id": "a93ae390",
   "metadata": {},
   "outputs": [],
   "source": [
    "!kubectl exec {a[0].split()[0]} -- python3 /app/API_inferencia_V8.0.py"
   ]
  },
  {
   "cell_type": "code",
   "execution_count": 129,
   "id": "1c39595b",
   "metadata": {},
   "outputs": [
    {
     "name": "stdout",
     "output_type": "stream",
     "text": [
      "API_inferencia_V8.0.py\n",
      "api_inference_10.168.2.12.log\n",
      "lost+found\n"
     ]
    }
   ],
   "source": [
    "a = !kubectl get pods | findstr /R \"inf\"\n",
    "# !kubectl exec {a[0].split()[0]} -- rm AGR_a_first_train.csv\n",
    "# !kubectl exec {a[0].split()[0]} -- rm AGR_g_first_train.csv\n",
    "# !kubectl exec {a[0].split()[0]} -- rm API_update_V8.1.py\n",
    "!kubectl exec {a[0].split()[0]} -- ls"
   ]
  },
  {
   "cell_type": "code",
   "execution_count": null,
   "id": "11f19dd0",
   "metadata": {},
   "outputs": [],
   "source": [
    "!kubectl get pods --all-namespaces"
   ]
  },
  {
   "cell_type": "code",
   "execution_count": 132,
   "id": "44c3bf40",
   "metadata": {},
   "outputs": [
    {
     "name": "stdout",
     "output_type": "stream",
     "text": [
      "NAMESPACE     NAME                   TYPE        CLUSTER-IP       EXTERNAL-IP   PORT(S)            AGE\n",
      "default       api-inferencia         NodePort    34.118.235.188   <none>        5001:32001/TCP     4h40m\n",
      "default       api-update             NodePort    34.118.233.94    <none>        5002:32002/TCP     4h40m\n",
      "default       kubernetes             ClusterIP   34.118.224.1     <none>        443/TCP            5h37m\n",
      "default       mlflow                 NodePort    34.118.238.242   <none>        5000:30500/TCP     149m\n",
      "gmp-system    alertmanager           ClusterIP   None             <none>        9093/TCP           5h35m\n",
      "gmp-system    gmp-operator           ClusterIP   34.118.235.70    <none>        8443/TCP,443/TCP   5h35m\n",
      "gmp-system    rule-evaluator         ClusterIP   34.118.238.3     <none>        19092/TCP          5h35m\n",
      "kafka         kafka-service          NodePort    34.118.235.72    <none>        9092:32092/TCP     4h40m\n",
      "kafka         zookeeper-service      NodePort    34.118.239.221   <none>        2181:30181/TCP     5h10m\n",
      "kube-system   default-http-backend   NodePort    34.118.238.122   <none>        80:32227/TCP       5h35m\n",
      "kube-system   kube-dns               ClusterIP   34.118.224.10    <none>        53/UDP,53/TCP      5h36m\n",
      "kube-system   metrics-server         ClusterIP   34.118.235.76    <none>        443/TCP            5h35m\n"
     ]
    }
   ],
   "source": [
    "# check public ip address of the kubernetes GKE\n",
    "!kubectl get services --all-namespaces"
   ]
  },
  {
   "cell_type": "code",
   "execution_count": 133,
   "id": "9b3dcf5c",
   "metadata": {},
   "outputs": [
    {
     "name": "stdout",
     "output_type": "stream",
     "text": [
      "34.172.244.58\n"
     ]
    }
   ],
   "source": [
    "!gcloud container clusters describe two-node-cluster --region us-central1-a --format=\"value(privateClusterConfig.publicEndpoint)\"\n"
   ]
  },
  {
   "cell_type": "code",
   "execution_count": null,
   "id": "bb19621a",
   "metadata": {},
   "outputs": [],
   "source": [
    "!kubectl describe service api-inferencia"
   ]
  },
  {
   "cell_type": "code",
   "execution_count": 141,
   "id": "c2f41eaf",
   "metadata": {},
   "outputs": [
    {
     "name": "stdout",
     "output_type": "stream",
     "text": [
      "deployment.apps/api-inferencia scaled\n"
     ]
    }
   ],
   "source": [
    "# scale it to 3 service api-inferencia\n",
    "!kubectl scale deployment api-inferencia --replicas=3\n"
   ]
  },
  {
   "cell_type": "code",
   "execution_count": 143,
   "id": "dc628571",
   "metadata": {},
   "outputs": [
    {
     "data": {
      "text/plain": [
       "['api-inferencia-54c6bc6b-7bklx   1/1     Running   0          3h32m',\n",
       " 'api-inferencia-54c6bc6b-c4979   1/1     Running   0          42s',\n",
       " 'api-inferencia-54c6bc6b-zsjcx   1/1     Running   0          42s']"
      ]
     },
     "execution_count": 143,
     "metadata": {},
     "output_type": "execute_result"
    }
   ],
   "source": [
    "a = !kubectl get pods | findstr /R \"inf\"\n",
    "a"
   ]
  },
  {
   "cell_type": "code",
   "execution_count": 146,
   "id": "4a36f051",
   "metadata": {},
   "outputs": [
    {
     "name": "stdout",
     "output_type": "stream",
     "text": [
      "API_inferencia_V8.0.py\n",
      "api_inference_10.168.2.12.log\n",
      "load_model_10.168.2.12.csv\n",
      "lost+found\n",
      "API_inferencia_V8.0.py\n",
      "api_inference_10.168.2.12.log\n",
      "load_model_10.168.2.12.csv\n",
      "lost+found\n"
     ]
    }
   ],
   "source": [
    "# check ls of a[0].split()[0]\n",
    "!kubectl exec {a[0].split()[0]} -- ls\n",
    "!kubectl exec {a[1].split()[0]} -- ls"
   ]
  },
  {
   "cell_type": "code",
   "execution_count": 136,
   "id": "b27c81df",
   "metadata": {},
   "outputs": [
    {
     "name": "stderr",
     "output_type": "stream",
     "text": [
      "No resources found in default namespace.\n"
     ]
    }
   ],
   "source": [
    "!kubectl get ingress"
   ]
  },
  {
   "cell_type": "code",
   "execution_count": null,
   "id": "b3f5c6a2",
   "metadata": {},
   "outputs": [],
   "source": [
    "!curl http://34.172.244.58:30500"
   ]
  },
  {
   "cell_type": "code",
   "execution_count": 139,
   "id": "6299ede7",
   "metadata": {},
   "outputs": [
    {
     "name": "stdout",
     "output_type": "stream",
     "text": [
      "NAME                                             STATUS   ROLES    AGE     VERSION               INTERNAL-IP   EXTERNAL-IP     OS-IMAGE                             KERNEL-VERSION   CONTAINER-RUNTIME\n",
      "gke-two-node-cluster-node-pool-1-6f09704a-21b4   Ready    <none>   4h6m    v1.33.2-gke.1240000   10.10.0.6     34.60.133.175   Container-Optimized OS from Google   6.6.93+          containerd://2.0.4\n",
      "gke-two-node-cluster-node-pool-1-6f09704a-seg5   Ready    <none>   3h57m   v1.33.2-gke.1240000   10.10.0.7     34.58.44.149    Container-Optimized OS from Google   6.6.93+          containerd://2.0.4\n"
     ]
    }
   ],
   "source": [
    "!kubectl get nodes -o wide\n"
   ]
  },
  {
   "cell_type": "code",
   "execution_count": 140,
   "id": "94107616",
   "metadata": {},
   "outputs": [
    {
     "name": "stdout",
     "output_type": "stream",
     "text": [
      "<!doctype html><html lang=\"en\"><head><meta charset=\"utf-8\"/><meta name=\"viewport\" content=\"width=device-width,initial-scale=1,shrink-to-fit=no\"/><link rel=\"shortcut icon\" href=\"./static-files/favicon.ico\"/><meta name=\"theme-color\" content=\"#000000\"/><link rel=\"manifest\" href=\"./static-files/manifest.json\"/><title>MLflow</title><script defer=\"defer\" src=\"static-files/static/js/main.6125589f.js\"></script><link href=\"static-files/static/css/main.3b6f4584.css\" rel=\"stylesheet\"></head><body><noscript>You need to enable JavaScript to run this app.</noscript><div id=\"root\"></div><div id=\"modal\"></div></body></html>\n"
     ]
    },
    {
     "name": "stderr",
     "output_type": "stream",
     "text": [
      "  % Total    % Received % Xferd  Average Speed   Time    Time     Time  Current\n",
      "                                 Dload  Upload   Total   Spent    Left  Speed\n",
      "\n",
      "  0     0    0     0    0     0      0      0 --:--:-- --:--:-- --:--:--     0\n",
      "100   615  100   615    0     0   1337      0 --:--:-- --:--:-- --:--:--  1339\n"
     ]
    }
   ],
   "source": [
    "!curl http://34.60.133.175:30500"
   ]
  },
  {
   "cell_type": "code",
   "execution_count": 1,
   "id": "6736851e",
   "metadata": {},
   "outputs": [],
   "source": [
    "import os\n",
    "import threading\n",
    "\n",
    "\n",
    "def run_script(pod_name, script_path, i=1):\n",
    "    os.system(f\"kubectl exec {pod_name} -- nohup python3 {script_path} > output{i}.log 2>&1 &\")\n",
    "    # !kubectl exec {pod_name} -- nohup python3 /app/API_inferencia_V8.0.py &\n",
    "\n"
   ]
  },
  {
   "cell_type": "code",
   "execution_count": null,
   "id": "b590f641",
   "metadata": {},
   "outputs": [],
   "source": []
  },
  {
   "cell_type": "code",
   "execution_count": null,
   "id": "c71179af",
   "metadata": {},
   "outputs": [],
   "source": [
    "\n",
    "a = !kubectl get pods | findstr /R \"inf\"\n",
    "for i in range(len(a)):\n",
    "    print(f\"Pod {i+1}: {a[i].split()[0]}\")\n",
    "    # use nohup and threading to run the script in the background\n",
    "\n",
    "    # threads = []\n",
    "    pod_name = a[i].split()[0]\n",
    "    t = threading.Thread(target=run_script, args=(pod_name,\"/app/API_inferencia_V8.0.py\", i+1))\n",
    "    # threads.append(t)\n",
    "    t.start()\n"
   ]
  },
  {
   "cell_type": "code",
   "execution_count": 36,
   "id": "c9ac2e4e",
   "metadata": {},
   "outputs": [],
   "source": [
    "\n",
    "a = !kubectl get pods | findstr /R \"upd\"\n",
    "t = threading.Thread(target=run_script, args=(a[0].split()[0], \"/app/API_update_V8.1.py\"))\n",
    "t.start()\n",
    "\n"
   ]
  },
  {
   "cell_type": "code",
   "execution_count": 3,
   "id": "bcbb97f5",
   "metadata": {},
   "outputs": [],
   "source": [
    "a = !kubectl get pods | findstr /R \"upd\"\n",
    "run_script(a[0].split()[0], \"/app/API_update_V8.1.py\")"
   ]
  },
  {
   "cell_type": "code",
   "execution_count": 10,
   "id": "a7212bee",
   "metadata": {},
   "outputs": [],
   "source": [
    "a = !kubectl get pods | findstr /R \"inf\"\n"
   ]
  },
  {
   "cell_type": "code",
   "execution_count": null,
   "id": "10149539",
   "metadata": {},
   "outputs": [
    {
     "name": "stdout",
     "output_type": "stream",
     "text": [
      "Checking Python processes in pods:\n",
      "Pod 1: api-inferencia-54c6bc6b-7bklx\n",
      "root        1792  0.2  0.3 909516 129804 ?       Sl   10:53   0:06 /usr/local/bin/python3 /app/API_inferencia_V8.0.py\n",
      "Pod 2: api-inferencia-54c6bc6b-c4979\n",
      "root         247  0.3  0.3 909512 130108 ?       Sl   10:53   0:06 /usr/local/bin/python3 /app/API_inferencia_V8.0.py\n",
      "Pod 3: api-inferencia-54c6bc6b-zsjcx\n",
      "root         265  0.2  0.3 909516 129816 ?       Sl   10:53   0:06 /usr/local/bin/python3 /app/API_inferencia_V8.0.py\n"
     ]
    }
   ],
   "source": [
    "\n",
    "a = !kubectl get pods | findstr /R \"inf\"\n",
    "# # see python processes running in the pod\n",
    "print(\"Checking Python processes in pods:\")\n",
    "print(f\"Pod 1: {a[0].split()[0]}\")\n",
    "!kubectl exec {a[0].split()[0]} -- ps aux | findstr /R \"python\"\n",
    "print(f\"Pod 2: {a[1].split()[0]}\")\n",
    "!kubectl exec {a[1].split()[0]} -- ps aux | findstr /R \"python\"\n",
    "print(f\"Pod 3: {a[2].split()[0]}\")\n",
    "!kubectl exec {a[2].split()[0]} -- ps aux | findstr /R \"python\"\n",
    "\n",
    "# # kill the python process\n",
    "# !kubectl exec {a[0].split()[0]} -- pkill -f API\n",
    "# !kubectl exec {a[1].split()[0]} -- pkill -f API\n",
    "# !kubectl exec {a[2].split()[0]} -- pkill -f API"
   ]
  },
  {
   "cell_type": "code",
   "execution_count": 7,
   "id": "afe9241e",
   "metadata": {},
   "outputs": [],
   "source": [
    "import os\n",
    "import threading\n",
    "\n",
    "b = !kubectl get pods | findstr /R \"upd\"\n",
    "\n",
    "def run_update_script():\n",
    "    os.system(f\"kubectl exec {b[0].split()[0]} -- python3 /app/API_update_V8.1.py\")\n",
    "t = threading.Thread(target=run_update_script)\n",
    "t.start()\n"
   ]
  },
  {
   "cell_type": "code",
   "execution_count": 3,
   "id": "6e0e5db7",
   "metadata": {},
   "outputs": [
    {
     "data": {
      "text/plain": [
       "['api-update-5b8d584b6f-hmt8q     1/1     Running   0          5h54m']"
      ]
     },
     "execution_count": 3,
     "metadata": {},
     "output_type": "execute_result"
    }
   ],
   "source": [
    "b = !kubectl get pods | findstr /R \"upd\"\n",
    "b"
   ]
  },
  {
   "cell_type": "code",
   "execution_count": 8,
   "id": "9ce6a83d",
   "metadata": {},
   "outputs": [
    {
     "name": "stdout",
     "output_type": "stream",
     "text": [
      "root       25390 72.4  0.4 959728 161772 ?       Ssl  11:28   0:01 python3 /app/API_update_V8.1.py\n",
      "root       25411  110  0.3 562708 101748 ?       Rl   11:28   0:00 /usr/local/bin/python3 /app/API_update_V8.1.py\n"
     ]
    }
   ],
   "source": [
    "!kubectl exec {b[0].split()[0]} -- ps aux | findstr /R \"python\""
   ]
  },
  {
   "cell_type": "code",
   "execution_count": 5,
   "id": "89ee5cde",
   "metadata": {},
   "outputs": [],
   "source": [
    "# kill the python process\n",
    "!kubectl exec {b[0].split()[0]} -- pkill -f API_update"
   ]
  },
  {
   "cell_type": "code",
   "execution_count": null,
   "id": "2f7b23df",
   "metadata": {},
   "outputs": [],
   "source": [
    "# Run the scripts\n",
    "\n",
    "import os\n",
    "import threading\n",
    "\n",
    "update_pods = !kubectl get pods | findstr /R \"upd\"\n",
    "\n",
    "def run_update_script(pod_name):\n",
    "    os.system(f\"kubectl exec {pod_name} -- nohup python3 /app/API_update_V8.1.py > {pod_name}_output.log 2>&1 &\")\n",
    "t = threading.Thread(target=run_update_script, args=(update_pods[0].split()[0],))\n",
    "t.start()\n",
    "\n",
    "def run_inference_script(pod_name, script_path):\n",
    "    os.system(f\"kubectl exec {pod_name} -- nohup python3 {script_path} > {pod_name}_output.log 2>&1 &\")\n",
    "\n",
    "inference_pods = !kubectl get pods | findstr /R \"inf\"\n",
    "for pod in inference_pods:\n",
    "    pod_name = pod.split()[0]\n",
    "    script_path = \"/app/API_inferencia_V8.0.py\"\n",
    "    t = threading.Thread(target=run_inference_script, args=(pod_name, script_path))\n",
    "    t.start()\n",
    "\n"
   ]
  },
  {
   "cell_type": "code",
   "execution_count": 12,
   "id": "be2cef02",
   "metadata": {},
   "outputs": [],
   "source": [
    "for pod in inference_pods:\n",
    "    !kubectl exec {pod.split()[0]} -- pkill -f API\n",
    "for pod in update_pods:\n",
    "    !kubectl exec {pod.split()[0]} -- pkill -f API"
   ]
  },
  {
   "cell_type": "code",
   "execution_count": null,
   "id": "082c63c6",
   "metadata": {},
   "outputs": [
    {
     "name": "stdout",
     "output_type": "stream",
     "text": [
      "Checking Python processes in pods:\n",
      "Pod: api-inferencia-57f4c5dcc5-5www7\n",
      "Pod: api-inferencia-57f4c5dcc5-d4dgq\n",
      "Pod: api-inferencia-57f4c5dcc5-ks2vn\n",
      "Pod: api-inferencia-57f4c5dcc5-w94hw\n",
      "Pod: api-update-6df9ff788-v5fvb\n"
     ]
    }
   ],
   "source": [
    "\n",
    "# # see python processes running in the pod\n",
    "print(\"Checking Python processes in pods:\")\n",
    "for pod in inference_pods:\n",
    "    print(f\"Pod: {pod.split()[0]}\")\n",
    "    !kubectl exec {pod.split()[0]} -- ps aux | findstr /R \"python\"\n",
    "\n",
    "for pod in update_pods:\n",
    "    print(f\"Pod: {pod.split()[0]}\")\n",
    "    !kubectl exec {pod.split()[0]} -- ps aux | findstr /R \"python\""
   ]
  },
  {
   "cell_type": "code",
   "execution_count": 27,
   "id": "04453b75",
   "metadata": {},
   "outputs": [],
   "source": [
    "# Copy everything from C:\\Users\\adilm\\OneDrive\\Documents\\large-scale-online-learning\\Datasets\\real_usage\n",
    "# to container with id d87523e7d using docker cp since it is in local Windows environment\n",
    "# create a directory in the container if it does not exist\n",
    "!docker exec d87523e7d mkdir -p /app/large-scale-online-learning/MLOps-Architecture/Serialization_Datasets\n",
    "# !docker exec d87523e7d rm -r /app/Datasets/real_usage\n",
    "# !docker exec d87523e7d ls /app/Datasets/real_usage\n",
    "# !docker cp C:\\Users\\adilm\\OneDrive\\Documents\\large-scale-online-learning\\MLOps-Architecture\\Serialization_Datasets\\testing.ipynb d87523e7d:/app/large-scale-online-learning/MLOps-Architecture/Serialization_Datasets/\n",
    "!docker cp C:\\Users\\adilm\\OneDrive\\Documents\\large-scale-online-learning\\MLOps-Architecture\\Serialization_Datasets\\locust-testing.py d87523e7d:/app/large-scale-online-learning/MLOps-Architecture/Serialization_Datasets/"
   ]
  },
  {
   "cell_type": "code",
   "execution_count": 76,
   "id": "1c9b6413",
   "metadata": {},
   "outputs": [
    {
     "name": "stdout",
     "output_type": "stream",
     "text": [
      "sha256:6fcf2f8fc892644435fc2ab38a9adf2d0011ed87cdb34a8facc46dae8e7566bb\n"
     ]
    }
   ],
   "source": [
    "!docker commit d87523e7d auliadil/load-testing-rodrigues:v1"
   ]
  },
  {
   "cell_type": "code",
   "execution_count": 32,
   "id": "1906d363",
   "metadata": {},
   "outputs": [],
   "source": [
    "!docker cp \"C:\\Users\\adilm\\.kube\" d87523e7d:/root/.kube"
   ]
  },
  {
   "cell_type": "code",
   "execution_count": 33,
   "id": "f9cad37d",
   "metadata": {},
   "outputs": [
    {
     "name": "stdout",
     "output_type": "stream",
     "text": [
      "serviceaccount/superadmin-sa created\n"
     ]
    }
   ],
   "source": [
    "!kubectl create serviceaccount superadmin-sa -n kafka"
   ]
  },
  {
   "cell_type": "code",
   "execution_count": 34,
   "id": "768dcaf0",
   "metadata": {},
   "outputs": [
    {
     "name": "stdout",
     "output_type": "stream",
     "text": [
      "clusterrolebinding.rbac.authorization.k8s.io/superadmin-binding created\n"
     ]
    }
   ],
   "source": [
    "!kubectl create clusterrolebinding superadmin-binding --clusterrole=cluster-admin --serviceaccount=kafka:superadmin-sa"
   ]
  },
  {
   "cell_type": "code",
   "execution_count": 35,
   "id": "0c920193",
   "metadata": {},
   "outputs": [
    {
     "name": "stdout",
     "output_type": "stream",
     "text": [
      "eyJhbGciOiJSUzI1NiIsImtpZCI6IlNrZUFqSUhOZUc1Ynl6YUJtWTRJTndialFnNFFrdzl4eEpUWTFORHhuY2cifQ.eyJhdWQiOlsiaHR0cHM6Ly9jb250YWluZXIuZ29vZ2xlYXBpcy5jb20vdjEvcHJvamVjdHMvZmFzdC1sZWFybmVyLXByb2plY3QvbG9jYXRpb25zL3VzLWNlbnRyYWwxLWEvY2x1c3RlcnMvdHdvLW5vZGUtY2x1c3RlciJdLCJleHAiOjE3NTQ5MDM5MjcsImlhdCI6MTc1NDgxNzUyNywiaXNzIjoiaHR0cHM6Ly9jb250YWluZXIuZ29vZ2xlYXBpcy5jb20vdjEvcHJvamVjdHMvZmFzdC1sZWFybmVyLXByb2plY3QvbG9jYXRpb25zL3VzLWNlbnRyYWwxLWEvY2x1c3RlcnMvdHdvLW5vZGUtY2x1c3RlciIsImp0aSI6ImI1NWFiMDNjLTE5ZWEtNDBhZS1hNTBiLWJmOGRiZDgwMDhkNSIsImt1YmVybmV0ZXMuaW8iOnsibmFtZXNwYWNlIjoia2Fma2EiLCJzZXJ2aWNlYWNjb3VudCI6eyJuYW1lIjoic3VwZXJhZG1pbi1zYSIsInVpZCI6IjU0YzI0YjgyLWMyNGYtNGRkNC1hYjZkLTY1NTMzZDI5Y2IzZCJ9fSwibmJmIjoxNzU0ODE3NTI3LCJzdWIiOiJzeXN0ZW06c2VydmljZWFjY291bnQ6a2Fma2E6c3VwZXJhZG1pbi1zYSJ9.bzsd-VjRZ_Ob41oa_KMkXElYF3TSK17lJlj4KVPK4hGFxCfRAmQUL-FU2W-fPinwbPA0RVDKtD1zrcoYQvdYc1lXE1QtNIMawyYJwnzTXwl0AcLAzXGfUTCXXlWJpIDX6agcIAPW8zsga4Su0Eq-d9UH61Trmh0KEP0wlaFNmVz3CUWiFGg_lpot3xIl-4Kdw7Y-nPI_Afm6SRxUTrjRlC67evYYxbv1vcjTUH9dRoMZdYCKAQE1khIik6LSiLMJJ263q8Y1n77bntNXoHdXgpz2HlXzfN2dPGKjCwgFtlh-GR0htwvBw9sv0hHTjSeuP8DV0qz0qlndFGi9_l9AlQ\n"
     ]
    }
   ],
   "source": [
    "!kubectl create token superadmin-sa -n kafka --duration=24h\n"
   ]
  },
  {
   "cell_type": "code",
   "execution_count": 41,
   "id": "565c9ed9",
   "metadata": {},
   "outputs": [
    {
     "name": "stderr",
     "output_type": "stream",
     "text": [
      "rm: cannot remove '/root/.config/gcloud': No such file or directory\n"
     ]
    }
   ],
   "source": [
    "# !dir \"C:\\Users\\adilm\\AppData\\Roaming\\gcloud\"\n",
    "!docker exec d87523e7d rm -r /root/.config/gcloud\n",
    "!docker cp \"C:\\Users\\adilm\\AppData\\Roaming\\gcloud\" d87523e7d:/root/.config\n"
   ]
  },
  {
   "cell_type": "code",
   "execution_count": 67,
   "id": "5fb426f4",
   "metadata": {},
   "outputs": [
    {
     "name": "stdout",
     "output_type": "stream",
     "text": [
      "{live-restore: true, log-opts: {tag: {{.Name}}}, storage-driver: overlay2, mtu: 1460, hosts: [unix:///var/run/docker.sock, tcp://0.0.0.0:2375]}\n",
      "{live-restore: true, log-opts: {tag: {{.Name}}}, storage-driver: overlay2, mtu: 1460, hosts: [unix:///var/run/docker.sock, tcp://0.0.0.0:2375]}\n"
     ]
    }
   ],
   "source": [
    "# !gcloud compute ssh load-testing-instance --zone=us-central1-a --command=\"ls /etc/docker\"\n",
    "# !gcloud compute ssh load-testing-instance --zone=us-central1-a --command=\"sudo docker ps\"\n",
    "# a = '{\"live-restore\": true, \\\"log-opts\\\": {\\\"tag\\': \\\"{{.Name}}\\\"}, \\\"storage-driver\\\": \\\"overlay2\\\", \\\"mtu\\\": 1460, \\\"hosts\\\": [\\\"unix:///var/run/docker.sock\\\", \\\"tcp://0.0.0.0:2375\\\"]}'\n",
    "a = '{\"live-restore\": true, \"log-opts\": {\"tag\": \"{{.Name}}\"}, \"storage-driver\": \"overlay2\", \"mtu\": 1460, \"hosts\": [\"unix:///var/run/docker.sock\", \"tcp://0.0.0.0:2375\"]}'\n",
    "\n",
    "# write a to /etc/docker/daemon.json\n",
    "# !gcloud compute ssh standalone-load-tester --zone=us-central1-a --command=\"echo jojo\" \n",
    "\n",
    "# write the contents of variable a to /etc/docker/daemon.json using sudo\n",
    "!gcloud compute ssh standalone-load-tester --zone=us-central1-a --command=\"echo '{a}' | sudo tee /etc/docker/daemon.json\"\n",
    "!gcloud compute ssh standalone-load-tester --zone=us-central1-a --command=\"cat /etc/docker/daemon.json\" "
   ]
  },
  {
   "cell_type": "code",
   "execution_count": 87,
   "id": "ae6b5749",
   "metadata": {},
   "outputs": [
    {
     "name": "stdout",
     "output_type": "stream",
     "text": [
      "bin\n",
      "boot\n",
      "dev\n",
      "etc\n",
      "home\n",
      "lib\n",
      "lib64\n",
      "lost+found\n",
      "mnt\n",
      "opt\n",
      "postinst\n",
      "proc\n",
      "root\n",
      "run\n",
      "sbin\n",
      "sys\n",
      "tmp\n",
      "usr\n",
      "var\n"
     ]
    }
   ],
   "source": [
    "# !gcloud compute ssh standalone-load-tester --zone=us-central1-a --command=\"sudo docker ps\"\n",
    "#sudo systemctl restart docker\n",
    "# !gcloud compute ssh standalone-load-tester --zone=us-central1-a --command=\"systemctl restart docker\"\n",
    "# !gcloud compute ssh standalone-load-tester --zone=us-central1-a --command=\"whoami\"\n",
    "# add this in docker group adilmuhammad706_gmail_com\n",
    "# !gcloud compute ssh standalone-load-tester --zone=us-central1-a --command=\"docker ps\"\n",
    "# !gcloud compute instances stop standalone-load-tester --zone=us-central1-a\n",
    "# !gcloud compute instances start standalone-load-tester --zone=us-central1-a\n",
    "# gcloud_template = \"gcloud compute ssh standalone-load-tester --zone=us-central1-a\"\n",
    "# tail dev null\n",
    "gcloud_template = \"gcloud compute ssh standalone-load-tester --zone=us-central1-a\"\n",
    "# docker_command = \"sudo docker run -d --name load-testing-container auliadil/load-testing-rodrigues:v1 tail -f /dev/null\"\n",
    "docker_command = \"sudo ls /\"\n",
    "!{gcloud_template} --command=\"{docker_command}\""
   ]
  },
  {
   "cell_type": "code",
   "execution_count": null,
   "id": "7e0539d4",
   "metadata": {},
   "outputs": [],
   "source": [
    "def copy_to_load_testing_docker(file_path, destination_path=\"/app/large-scale-online-learning/MLOps-Architecture/Serialization_Datasets/\"):\n",
    "    \"\"\"Copy a file to the load testing Docker container.\"\"\"\n",
    "    filename = file_path.split(\"\\\\\")[-1]  # Get the filename from the path\n",
    "    gcloud_template_scp_local_to_remote = f\"gcloud compute scp --zone=us-central1-a {file_path} standalone-load-tester:/{filename}\"\n",
    "    # Ensure the destination directory exists in the container\n",
    "    !{gcloud_template_scp_local_to_remote}\n",
    "    gcloud_command = f\"gcloud compute ssh standalone-load-tester --zone=us-central1-a --command='sudo docker cp /test/{filename} load-testing-container:{destination_path}'\"\n",
    "    !{gcloud_command}\n",
    "\n",
    "copy_to_load_testing_docker(r\"C:\\Users\\adilm\\OneDrive\\Documents\\large-scale-online-learning\\MLOps-Architecture\\terraform_stuff\\etc\\daemon.json\", \"/app\")"
   ]
  },
  {
   "cell_type": "code",
   "execution_count": null,
   "id": "a4eab365",
   "metadata": {},
   "outputs": [
    {
     "name": "stdout",
     "output_type": "stream",
     "text": [
      "^C\n"
     ]
    }
   ],
   "source": [
    "# Generate SSH key pair on Windows (using Git Bash, WSL, or PowerShell)\n",
    "# Run this command in your terminal:\n",
    "!ssh-keygen -t rsa -b 4096 -f %USERPROFILE%\\.ssh\\id_rsa -C \"adilmuhammad706_gmail_com\"\n",
    "# !echo \n",
    "# This creates:\n",
    "# - Private key: ~/.ssh/id_rsa\n",
    "# - Public key: ~/.ssh/id_rsa.pub\n",
    "\n",
    "# To copy the public key to GCP project metadata:\n",
    "# 1. Open ~/.ssh/id_rsa.pub and copy its contents.\n",
    "# 2. Go to Google Cloud Console > Compute Engine > Metadata > SSH Keys.\n",
    "# 3. Click \"Edit\" and paste the public key into the SSH Keys section.\n",
    "# 4. Save.\n",
    "\n",
    "# Now you can SSH from Windows to your Ubuntu VM on GCP using your private key."
   ]
  },
  {
   "cell_type": "code",
   "execution_count": 106,
   "id": "6b643f28",
   "metadata": {},
   "outputs": [
    {
     "name": "stdout",
     "output_type": "stream",
     "text": [
      "ssh-rsa AAAAB3NzaC1yc2EAAAADAQABAAACAQDiLKTTdc5zYsKDR8D/TkzlHGG1XWc4wY8+Pxw+ooHb0jZghDYizteEsVU/kkUNcL7nGRKPlqgD/8oAD63/iifAah2cYFdJUv1RiK6wTLGpVyoH1d0fiNnn645pXlL56FFc8olp2aMBpzNO+tAJJ5ymQ1Y6TwzTzoahgjfBYEM5LEnEDYKVDPJoFABLPYXwRm0oIYa8N/K+0gO9r5NnCoefDyKXj6+B/YhbJWGjx6NH/6Qg5kiTdYAUjZMAAluUnx3M1yh6j+fQM6LzdJZRmvkoYEb7Ad6yndX61bn40553GylT2c1VoNLI7lXKjpVDHNJNJsVDFily4JcXmHy+VBif7HnPFih/q0KjK4yJCON4YDwQX7dU4qXBDi1GcfkLwpvbzK0dPZVsk1MQeT/5lqJ4pPZsvthMF7z60Eb9bTgmoxYycNGmREy5hi+rj/5UuRScea7u8uxeEZEsU5vQ5vFJqpWXGm4rYEpR4juydE8R57HPQ9aS1DA5IdM0r7VGuo0B1mVrWjKPwjT7d1mU3CftmZuTpdjylv1MxFOeepOdM384LmoOrlCRyfyrOHqedc9EV8ac1r+l51r3iSkAYvnxzhdnNlda1ZqdEA02tG+V8z7QYoLZJKBsPAOZ3gnsoY3zLBVG0411DN8Q1oJVejjU2uVe6EzEAjg1aRmk9ZoW9Q== adilmuhammad706@gmail.com\n"
     ]
    }
   ],
   "source": [
    "# !dir %USERPROFILE%\\.ssh\\\n",
    "# !type %USERPROFILE%\\.ssh\\remote-ssh-demo-new\n",
    "!type %USERPROFILE%\\.ssh\\id_rsa.pub"
   ]
  }
 ],
 "metadata": {
  "kernelspec": {
   "display_name": "Python 3",
   "language": "python",
   "name": "python3"
  },
  "language_info": {
   "codemirror_mode": {
    "name": "ipython",
    "version": 3
   },
   "file_extension": ".py",
   "mimetype": "text/x-python",
   "name": "python",
   "nbconvert_exporter": "python",
   "pygments_lexer": "ipython3",
   "version": "3.13.5"
  }
 },
 "nbformat": 4,
 "nbformat_minor": 5
}
