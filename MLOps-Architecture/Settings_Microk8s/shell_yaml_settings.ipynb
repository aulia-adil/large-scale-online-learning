{
 "cells": [
  {
   "cell_type": "code",
   "execution_count": null,
   "id": "f109bbb0",
   "metadata": {},
   "outputs": [
    {
     "ename": "",
     "evalue": "",
     "output_type": "error",
     "traceback": [
      "\u001b[1;31mThe Kernel crashed while executing code in the current cell or a previous cell. \n",
      "\u001b[1;31mPlease review the code in the cell(s) to identify a possible cause of the failure. \n",
      "\u001b[1;31mClick <a href='https://aka.ms/vscodeJupyterKernelCrash'>here</a> for more info. \n",
      "\u001b[1;31mView Jupyter <a href='command:jupyter.viewOutput'>log</a> for further details."
     ]
    }
   ],
   "source": [
    "import os\n",
    "import yaml\n",
    "import re\n",
    "\n",
    "files_in_directory = os.listdir('.')\n",
    "files_in_directory\n",
    "nodename = \"minikube\"\n",
    "for filename in files_in_directory:\n",
    "    if filename.endswith('.yaml'):\n",
    "        with open(filename, 'r') as f:\n",
    "            content = f.read()\n",
    "        # Replace any existing nodeName assignment with the new nodename\n",
    "        new_content = content\n",
    "        # Replace nodeName: ... with nodeName: minikube (preserving indentation)\n",
    "        new_content = re.sub(r'(^\\s*nodeName:\\s*).*$',\n",
    "                             r'\\1{}'.format(nodename),\n",
    "                             new_content,\n",
    "                             flags=re.MULTILINE)\n",
    "        # Replace kubernetes.io/hostname: ... with kubernetes.io/hostname: minikube\n",
    "        new_content = re.sub(r'(^\\s*kubernetes\\.io/hostname:\\s*).*$',\n",
    "                             r'\\1{}'.format(nodename),\n",
    "                             new_content,\n",
    "                             flags=re.MULTILINE)\n",
    "        if new_content != content:\n",
    "            with open(filename, 'w') as f:\n",
    "                f.write(new_content)\n"
   ]
  }
 ],
 "metadata": {
  "kernelspec": {
   "display_name": "Python 3",
   "language": "python",
   "name": "python3"
  },
  "language_info": {
   "codemirror_mode": {
    "name": "ipython",
    "version": 3
   },
   "file_extension": ".py",
   "mimetype": "text/x-python",
   "name": "python",
   "nbconvert_exporter": "python",
   "pygments_lexer": "ipython3",
   "version": "3.11.5"
  }
 },
 "nbformat": 4,
 "nbformat_minor": 5
}
