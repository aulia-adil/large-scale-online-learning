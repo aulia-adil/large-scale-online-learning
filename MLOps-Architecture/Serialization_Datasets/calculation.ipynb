{
 "cells": [
  {
   "cell_type": "code",
   "execution_count": null,
   "id": "6e20271b",
   "metadata": {},
   "outputs": [],
   "source": [
    "import mlflow\n",
    "from mlflow.tracking import MlflowClient\n",
    "import pandas as pd\n",
    "from datetime import datetime\n",
    "\n",
    "def experiment_version_frequency(experiment_name, start_time, end_time, tracking_uri=\"http://localhost/mlflow-service\"):\n",
    "    \"\"\"\n",
    "    Prints experiment id, run count, and average frequency of model versions for a given experiment name and time range.\n",
    "    start_time and end_time should be in 'YYYY-MM-DD HH:MM:SS' format.\n",
    "    Average frequency is now calculated per second.\n",
    "    \"\"\"\n",
    "    client = MlflowClient(tracking_uri=tracking_uri)\n",
    "    exp = client.get_experiment_by_name(experiment_name)\n",
    "    if exp is None:\n",
    "        print(f\"Experiment '{experiment_name}' not found.\")\n",
    "        return\n",
    "    runs = client.search_runs([exp.experiment_id])\n",
    "    # Convert start/end time to timestamps\n",
    "    start_ts = int(pd.Timestamp(start_time).timestamp() * 1000)\n",
    "    end_ts = int(pd.Timestamp(end_time).timestamp() * 1000)\n",
    "    filtered_runs = [run for run in runs if start_ts <= run.info.start_time <= end_ts]\n",
    "    print(f\"Experiment ID: {exp.experiment_id}\")\n",
    "    print(f\"Run count: {len(filtered_runs)}\")\n",
    "    if filtered_runs:\n",
    "        times = [run.info.start_time for run in filtered_runs]\n",
    "        times.sort()\n",
    "        # Calculate average frequency (runs per second)\n",
    "        duration = (max(times) - min(times)) / 1000  # seconds\n",
    "        avg_freq = len(filtered_runs) / duration if duration > 0 else len(filtered_runs)\n",
    "        print(f\"Average frequency: {avg_freq:.6f} runs per second\")\n",
    "        print(\"Run IDs and start times:\")\n",
    "        for run in filtered_runs:\n",
    "            dt = datetime.fromtimestamp(run.info.start_time / 1000)\n",
    "            print(f\"Run ID: {run.info.run_id}, Start Time: {dt}\")\n",
    "    else:\n",
    "        print(\"No runs found in the specified time range.\")\n",
    "\n",
    "# Example usage:\n",
    "experiment_version_frequency(\"AGR_a-HT-old-2000\", \"2025-07-19 00:00:00\", \"2025-07-19 23:59:59\")\n"
   ]
  },
  {
   "cell_type": "code",
   "execution_count": null,
   "id": "3cbb9fff",
   "metadata": {},
   "outputs": [],
   "source": []
  }
 ],
 "metadata": {
  "kernelspec": {
   "display_name": ".venv",
   "language": "python",
   "name": "python3"
  },
  "language_info": {
   "codemirror_mode": {
    "name": "ipython",
    "version": 3
   },
   "file_extension": ".py",
   "mimetype": "text/x-python",
   "name": "python",
   "nbconvert_exporter": "python",
   "pygments_lexer": "ipython3",
   "version": "3.11.5"
  }
 },
 "nbformat": 4,
 "nbformat_minor": 5
}
