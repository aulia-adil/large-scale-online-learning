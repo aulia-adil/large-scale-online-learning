{
 "cells": [
  {
   "cell_type": "code",
   "execution_count": null,
   "id": "01aef54e",
   "metadata": {
    "vscode": {
     "languageId": "shellscript"
    }
   },
   "outputs": [
    {
     "name": "stdout",
     "output_type": "stream",
     "text": [
      "NAMESPACE       NAME                                 TYPE           CLUSTER-IP       EXTERNAL-IP   PORT(S)                        AGE\n",
      "default         api-inferencia                       NodePort       10.96.85.23      <none>        5001:32001/TCP                 17d\n",
      "default         api-update                           NodePort       10.107.58.11     <none>        5002:32002/TCP                 17d\n",
      "default         http-echo                            LoadBalancer   10.97.180.217    127.0.0.1     8080:30967/TCP                 14d\n",
      "default         kubernetes                           ClusterIP      10.96.0.1        <none>        443/TCP                        42d\n",
      "default         mlflow                               NodePort       10.108.121.246   <none>        5000:30500/TCP                 17d\n",
      "ingress-nginx   ingress-nginx-controller             NodePort       10.110.165.163   <none>        80:30697/TCP,443:32582/TCP     14d\n",
      "ingress-nginx   ingress-nginx-controller-admission   ClusterIP      10.104.233.115   <none>        443/TCP                        14d\n",
      "kafka           kafka-service                        NodePort       10.101.144.213   <none>        9092:32092/TCP                 17d\n",
      "kafka           kafka-ui                             NodePort       10.108.54.206    <none>        8080:30808/TCP                 17d\n",
      "kafka           zookeeper-service                    NodePort       10.107.160.9     <none>        2181:30181/TCP                 17d\n",
      "kube-system     kube-dns                             ClusterIP      10.96.0.10       <none>        53/UDP,53/TCP,9153/TCP         42d\n",
      "kube-system     prometheus-stack-kube-prom-kubelet   ClusterIP      None             <none>        10250/TCP,10255/TCP,4194/TCP   17d\n"
     ]
    }
   ],
   "source": [
    "# !minikube addons enable ingress\n",
    "# !minikube status\n",
    "# !kubectl get pods -A\n",
    "# !kubectl get ingress -A\n",
    "# !kubectl get services -A\n",
    "# !minikube ip\n",
    "# !kubectl apply -f \"C:\\Users\\adilm\\OneDrive\\Documents\\large-scale-online-learning\\MLOps-Architecture\\Settings_Microk8s\\05-ingress.yaml\"\n"
   ]
  },
  {
   "cell_type": "code",
   "execution_count": 24,
   "id": "6342c450",
   "metadata": {
    "vscode": {
     "languageId": "shellscript"
    }
   },
   "outputs": [
    {
     "name": "stdout",
     "output_type": "stream",
     "text": [
      "192.168.49.2\n"
     ]
    },
    {
     "name": "stderr",
     "output_type": "stream",
     "text": [
      "W0602 12:27:40.014054   22808 main.go:291] Unable to resolve the current Docker CLI context \"default\": context \"default\": context not found: open C:\\Users\\adilm\\.docker\\contexts\\meta\\37a8eec1ce19687d132fe29051dca629d164e2c4958ba141d5f4133a33f0688f\\meta.json: The system cannot find the path specified.\n",
      "W0602 12:27:40.014584   22808 main.go:292] Try running `docker context use default` to resolve the above error\n"
     ]
    }
   ],
   "source": [
    "!minikube ip"
   ]
  },
  {
   "cell_type": "code",
   "execution_count": null,
   "id": "133b412b",
   "metadata": {
    "vscode": {
     "languageId": "shellscript"
    }
   },
   "outputs": [
    {
     "name": "stderr",
     "output_type": "stream",
     "text": [
      "Unable to use a TTY - input is not a terminal or the right kind of file\n",
      "  % Total    % Received % Xferd  Average Speed   Time    Time     Time  Current\n",
      "                                 Dload  Upload   Total   Spent    Left  Speed\n",
      "\n",
      "  0     0    0     0    0     0      0      0 --:--:-- --:--:-- --:--:--     0curl: (7) Failed to connect to 10.244.0.65 port 80: Connection refused\n",
      "command terminated with exit code 7\n"
     ]
    }
   ],
   "source": [
    "# !curl -X POST -H \"Content-Type: application/json\" -d \"20\" http://localhost/update-service/count\n",
    "# !kubectl exec -it utils-pod -- curl -X POST -H \"Content-Type: application/json\" -d '20' http://10.244.0.45:5002/count\n",
    "# !kubectl exec -it utils-pod -- curl -X POST -H \"Content-Type: application/json\" -d '20' http://192.168.49.2/update-service/count\n",
    "# !kubectl exec -it utils-pod -- curl -X POST -H \"Content-Type: application/json\" -d '20' http://10.244.0.65/count\n",
    "# !kubectl exec -it utils-pod -- ping 192.168.49.2\n",
    "# !minikube service"
   ]
  },
  {
   "cell_type": "code",
   "execution_count": 19,
   "metadata": {
    "vscode": {
     "languageId": "shellscript"
    }
   },
   "outputs": [
    {
     "name": "stdout",
     "output_type": "stream",
     "text": [
      "deployment.apps/api-inferencia configured\n",
      "persistentvolumeclaim/api-inferencia-pvc created\n"
     ]
    }
   ],
   "source": [
    "# !kubectl apply -f \"C:\\Users\\adilm\\OneDrive\\Documents\\large-scale-online-learning\\MLOps-Architecture\\Settings_Microk8s\\00-namespace.yaml\"\n",
    "\n",
    "# !kubectl apply -f \"C:\\Users\\adilm\\OneDrive\\Documents\\large-scale-online-learning\\MLOps-Architecture\\Settings_Microk8s\\01-zookeeper.yaml\"\n",
    "# !kubectl apply -f \"C:\\Users\\adilm\\OneDrive\\Documents\\large-scale-online-learning\\MLOps-Architecture\\Settings_Microk8s\\02-kafka.yaml\"\n",
    "# !kubectl apply -f \"C:\\Users\\adilm\\OneDrive\\Documents\\large-scale-online-learning\\MLOps-Architecture\\Settings_Microk8s\\03-kafka_ui.yaml\"\n",
    "# !kubectl delete -f \"C:\\Users\\adilm\\OneDrive\\Documents\\large-scale-online-learning\\MLOps-Architecture\\Settings_Microk8s\\01-zookeeper.yaml\"\n",
    "# !kubectl delete -f \"C:\\Users\\adilm\\OneDrive\\Documents\\large-scale-online-learning\\MLOps-Architecture\\Settings_Microk8s\\02-kafka.yaml\"\n",
    "\n",
    "# !kubectl apply -f \"C:\\Users\\adilm\\OneDrive\\Documents\\large-scale-online-learning\\MLOps-Architecture\\Settings_Microk8s\\api_inference_svc.yaml\"\n",
    "# !kubectl apply -f \"C:\\Users\\adilm\\OneDrive\\Documents\\large-scale-online-learning\\MLOps-Architecture\\Settings_Microk8s\\api_update_svc.yaml\"\n",
    "!kubectl apply -f \"C:\\Users\\adilm\\OneDrive\\Documents\\large-scale-online-learning\\MLOps-Architecture\\Settings_Microk8s\\deploy_micro_inf.yaml\"\n",
    "# !kubectl apply -f \"C:\\Users\\adilm\\OneDrive\\Documents\\large-scale-online-learning\\MLOps-Architecture\\Settings_Microk8s\\deploy_micro_up.yaml\"\n",
    "\n",
    "# !kubectl delete -f \"C:\\Users\\adilm\\OneDrive\\Documents\\large-scale-online-learning\\MLOps-Architecture\\Settings_Microk8s\\deploy_micro_inf.yaml\"\n",
    "\n",
    "# !kubectl apply -f \"C:\\Users\\adilm\\OneDrive\\Documents\\large-scale-online-learning\\MLOps-Architecture\\Settings_Microk8s\\04-mlflow.yaml\""
   ]
  },
  {
   "cell_type": "code",
   "execution_count": null,
   "id": "3f389e1b",
   "metadata": {
    "vscode": {
     "languageId": "shellscript"
    }
   },
   "outputs": [
    {
     "name": "stdout",
     "output_type": "stream",
     "text": [
      "NAME                            READY   STATUS    RESTARTS        AGE\n",
      "kafka-broker-76c694cfd9-qrn4c   1/1     Running   1 (2m20s ago)   23h\n",
      "kafka-ui-b7d6f67bc-c2786        1/1     Running   1 (2m20s ago)   24h\n",
      "zookeeper-6f6c4f86f5-rtnsh      1/1     Running   1 (2m20s ago)   24h\n"
     ]
    },
    {
     "ename": "",
     "evalue": "",
     "output_type": "error",
     "traceback": [
      "\u001b[1;31mThe Kernel crashed while executing code in the current cell or a previous cell. \n",
      "\u001b[1;31mPlease review the code in the cell(s) to identify a possible cause of the failure. \n",
      "\u001b[1;31mClick <a href='https://aka.ms/vscodeJupyterKernelCrash'>here</a> for more info. \n",
      "\u001b[1;31mView Jupyter <a href='command:jupyter.viewOutput'>log</a> for further details."
     ]
    }
   ],
   "source": [
    "# !kubectl get events -n kafka\n",
    "# !kubectl get pods -n kafka\n",
    "# !kubectl get service -A\n",
    "# !kubectl get svc -n kafka\n",
    "# !minikube service mlflow --url -n default\n",
    "# !kubectl get nodes -n kafka\n",
    "# !kubectl describe pod kafka-ui-58f97f6b5b-zc4fh -n kafka\n",
    "# !kubectl get pods -n kafka -l app=kafka-broker -o jsonpath='{.items[0].metadata.name}'\n",
    "# !kubectl exec -n kafka kafka-broker-76c694cfd9-qrn4c -- ./opt/bitnami/kafka/bin/kafka-consumer-groups.sh --bootstrap-server localhost:9092 --all-groups --describe\n",
    "# !kubectl exec -n kafka kafka-broker-76c694cfd9-qrn4c -- apt-get update -u 0\n",
    "# !kubectl exec -n kafka zookeeper-6f6c4f86f5-rtnsh -- apt "
   ]
  },
  {
   "cell_type": "code",
   "execution_count": null,
   "id": "75151b7e",
   "metadata": {
    "vscode": {
     "languageId": "shellscript"
    }
   },
   "outputs": [],
   "source": [
    "!kubectl get pods -A\n",
    "# !kubectl logs api-inferencia-7fcf86c444-mz6mn"
   ]
  },
  {
   "cell_type": "code",
   "execution_count": 1,
   "id": "42adee9e",
   "metadata": {
    "vscode": {
     "languageId": "shellscript"
    }
   },
   "outputs": [
    {
     "name": "stdout",
     "output_type": "stream",
     "text": [
      "alembic==1.15.2\n",
      "annotated-types==0.7.0\n",
      "anyio==4.9.0\n",
      "asttokens==3.0.0\n",
      "bidict==0.23.1\n",
      "blinker==1.9.0\n",
      "Brotli==1.1.0\n",
      "cachetools==5.5.2\n",
      "certifi==2025.4.26\n",
      "cffi==1.17.1\n",
      "charset-normalizer==3.4.2\n",
      "click==8.2.0\n",
      "cloudpickle==3.1.1\n",
      "colorama==0.4.6\n",
      "comm==0.2.2\n",
      "ConfigArgParse==1.7\n",
      "confluent-kafka==2.10.0\n",
      "contourpy==1.3.2\n",
      "cycler==0.12.1\n",
      "databricks-sdk==0.53.0\n",
      "debugpy==1.8.14\n",
      "decorator==5.2.1\n",
      "Deprecated==1.2.18\n",
      "docker==7.1.0\n",
      "executing==2.2.0\n",
      "fastapi==0.115.12\n",
      "Flask==3.1.1\n",
      "flask-cors==5.0.1\n",
      "Flask-Login==0.6.3\n",
      "fonttools==4.58.0\n",
      "gevent==24.11.1\n",
      "geventhttpclient==2.3.3\n",
      "gitdb==4.0.12\n",
      "GitPython==3.1.44\n",
      "google-auth==2.40.1\n",
      "graphene==3.4.3\n",
      "graphql-core==3.2.6\n",
      "graphql-relay==3.2.0\n",
      "greenlet==3.2.2\n",
      "h11==0.16.0\n",
      "idna==3.10\n",
      "importlib_metadata==8.6.1\n",
      "ipykernel==6.29.5\n",
      "ipython==9.2.0\n",
      "ipython_pygments_lexers==1.1.1\n",
      "itsdangerous==2.2.0\n",
      "jedi==0.19.2\n",
      "Jinja2==3.1.6\n",
      "joblib==1.5.0\n",
      "jupyter_client==8.6.3\n",
      "jupyter_core==5.7.2\n",
      "kiwisolver==1.4.8\n",
      "locust==2.37.3\n",
      "locust-cloud==1.21.7\n",
      "Mako==1.3.10\n",
      "Markdown==3.8\n",
      "MarkupSafe==3.0.2\n",
      "matplotlib==3.10.3\n",
      "matplotlib-inline==0.1.7\n",
      "mlflow==2.22.0\n",
      "mlflow-skinny==2.22.0\n",
      "msgpack==1.1.0\n",
      "nest-asyncio==1.6.0\n",
      "numpy==2.2.5\n",
      "opentelemetry-api==1.33.0\n",
      "opentelemetry-sdk==1.33.0\n",
      "opentelemetry-semantic-conventions==0.54b0\n",
      "packaging==24.2\n",
      "pandas==2.2.3\n",
      "parso==0.8.4\n",
      "pillow==11.2.1\n",
      "platformdirs==4.3.8\n",
      "prompt_toolkit==3.0.51\n",
      "protobuf==6.31.0\n",
      "psutil==7.0.0\n",
      "pure_eval==0.2.3\n",
      "pyarrow==19.0.1\n",
      "pyasn1==0.6.1\n",
      "pyasn1_modules==0.4.2\n",
      "pycparser==2.22\n",
      "pydantic==2.11.4\n",
      "pydantic_core==2.33.2\n",
      "Pygments==2.19.1\n",
      "pyparsing==3.2.3\n",
      "python-dateutil==2.9.0.post0\n",
      "python-engineio==4.12.1\n",
      "python-socketio==5.13.0\n",
      "pytz==2025.2\n",
      "pywin32==310\n",
      "PyYAML==6.0.2\n",
      "pyzmq==26.4.0\n",
      "requests==2.32.3\n",
      "river==0.22.0\n",
      "rsa==4.9.1\n",
      "scikit-learn==1.6.1\n",
      "scipy==1.15.3\n",
      "simple-websocket==1.1.0\n",
      "six==1.17.0\n",
      "smmap==5.0.2\n",
      "sniffio==1.3.1\n",
      "SQLAlchemy==2.0.41\n",
      "sqlparse==0.5.3\n",
      "stack-data==0.6.3\n",
      "starlette==0.46.2\n",
      "threadpoolctl==3.6.0\n",
      "tornado==6.5\n",
      "traitlets==5.14.3\n",
      "typing-inspection==0.4.0\n",
      "typing_extensions==4.13.2\n",
      "tzdata==2025.2\n",
      "urllib3==2.4.0\n",
      "uvicorn==0.34.2\n",
      "waitress==3.0.2\n",
      "wcwidth==0.2.13\n",
      "websocket-client==1.8.0\n",
      "Werkzeug==3.1.3\n",
      "wrapt==1.17.2\n",
      "wsproto==1.2.0\n",
      "zipp==3.21.0\n",
      "zope.event==5.0\n",
      "zope.interface==7.2\n"
     ]
    }
   ],
   "source": [
    "!pip freeze"
   ]
  }
 ],
 "metadata": {
  "kernelspec": {
   "display_name": ".venv",
   "language": "python",
   "name": "python3"
  },
  "language_info": {
   "codemirror_mode": {
    "name": "ipython",
    "version": 3
   },
   "file_extension": ".py",
   "mimetype": "text/x-python",
   "name": "python",
   "nbconvert_exporter": "python",
   "pygments_lexer": "ipython3",
   "version": "3.11.5"
  }
 },
 "nbformat": 4,
 "nbformat_minor": 5
}
